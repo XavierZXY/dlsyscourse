{
  "cells": [
    {
      "cell_type": "markdown",
      "metadata": {
        "id": "K4iFA2ymgWOg"
      },
      "source": [
        "## 10-714: Homework 0\n",
        "\n",
        "The goal of this homework is to give you a quick overview of some of the concepts and ideas that you should be familiar with _prior_ to taking this course.  The assignment will require you to build a basic softmax regression algorithm, plus a simple two-layer neural network.  You will create these implementations both in native Python (using the numpy library), and (for softmax regression) in native C/C++.  The homework will also walk you through the process of submitting your assignments to our autograding system.  Along the way, we'll give some guidance as to how you might want to implement these different functions, but overall the details are up to you.  What we will say, though, is that in the Python version you should make heavy use of the linear algebra calls in numpy: trying to use explicit loops will usually make the code much slower than it should be.\n",
        "\n",
        "**We know that there is a lot of prose text in this assignment, especially in the beginning, and relatively little coding.  That being said, _please_ read carefuly through the entirety of the text in this writeup.  Doing so will describe the process and philosophy behind how we structure our assignments, and will make a huge difference in your ability to complete later assignments.**\n",
        "\n",
        "All the code development for the homeworks in 10-714 can be done in the Google Colab environment.  However, instead of making extensive use of actual code blocks within a colab notebook, most of the code you develop will be done `.py` files downloaded (automatically) to your Google Drive, and you will largely use the notebook for running shell scripts that test and submit the code to the auto-grader (or optionally for testing out snippets of code as you develop, but this is not required).  This is a somewhat non-standard usage of Colab Notebooks (typically one uses them more like interactive coding environments, with code cells directly in the notebook).  However, our rationale for using them in the way that we do is actually straightforward: in addition to being a nice cloud-based notebook environment, Colab also provides very nice access to \"standard\" cloud-based GPU systems that you can spin up quickly, which will let you develop especially some of the later (CUDA-based) code without requiring you to get access to a physical GPU, or set up the CUDA libraries yourself.  That being said, **you are welcome to do the development and submission of your code in any environment you like**, we just can't guarantee the abiltiy to support any environment other than the Colab-based one.\n",
        "\n",
        "To get started, **make a copy of this notebook** file by selecting \"Save a copy in Drive\" from the \"File\" menu, and then run the code block below.  This will load your Google Drive folder into the Colab notebook environment, create a `/10714/hw0` directory, and clone the HW0 public repository into this directory."
      ]
    },
    {
      "cell_type": "code",
      "execution_count": null,
      "metadata": {
        "colab": {
          "base_uri": "https://localhost:8080/"
        },
        "id": "yqVeeyvKgWOm",
        "outputId": "c8b27642-4cb1-49e1-bdeb-aa30b339ca3a"
      },
      "outputs": [
        {
          "output_type": "stream",
          "name": "stdout",
          "text": [
            "Mounted at /content/drive\n",
            "/content/drive/MyDrive\n",
            "/content/drive/MyDrive/10714\n",
            "/content/drive/MyDrive/10714/hw0\n"
          ]
        }
      ],
      "source": [
        "# Code to set up the assignment\n",
        "from google.colab import drive\n",
        "drive.mount('/content/drive')\n",
        "%cd /content/drive/MyDrive/\n",
        "!mkdir -p 10714\n",
        "%cd /content/drive/MyDrive/10714\n",
        "# !git clone https://github.com/dlsyscourse/hw0.git\n",
        "%cd /content/drive/MyDrive/10714/hw0"
      ]
    },
    {
      "cell_type": "markdown",
      "metadata": {
        "id": "JcL8jx05gWOo"
      },
      "source": [
        "This next cell will then install the libraries required."
      ]
    },
    {
      "cell_type": "code",
      "execution_count": null,
      "metadata": {
        "id": "G1vbJaRjgWOo",
        "colab": {
          "base_uri": "https://localhost:8080/"
        },
        "outputId": "37807ba9-35c4-43fd-c7fb-72e8a4d620c1"
      },
      "outputs": [
        {
          "output_type": "stream",
          "name": "stdout",
          "text": [
            "Looking in indexes: https://pypi.org/simple, https://us-python.pkg.dev/colab-wheels/public/simple/\n",
            "Collecting git+https://github.com/dlsyscourse/mugrade.git\n",
            "  Cloning https://github.com/dlsyscourse/mugrade.git to /tmp/pip-req-build-elftmnh4\n",
            "  Running command git clone --filter=blob:none --quiet https://github.com/dlsyscourse/mugrade.git /tmp/pip-req-build-elftmnh4\n",
            "  Resolved https://github.com/dlsyscourse/mugrade.git to commit 98609ee80ee24bf278455b48aa8d06bd3f5d0430\n",
            "  Preparing metadata (setup.py) ... \u001b[?25l\u001b[?25hdone\n",
            "Building wheels for collected packages: mugrade\n",
            "  Building wheel for mugrade (setup.py) ... \u001b[?25l\u001b[?25hdone\n",
            "  Created wheel for mugrade: filename=mugrade-1.2-py3-none-any.whl size=3969 sha256=a3a0716818506e2201efc139ef51962b201c19d4985e6edd023c91bce72fa5f4\n",
            "  Stored in directory: /tmp/pip-ephem-wheel-cache-1liuhpvj/wheels/8e/44/75/415af60316e7094b1c27761bfa8db6e8bf2b9fc16260d307e8\n",
            "Successfully built mugrade\n",
            "Installing collected packages: mugrade\n",
            "Successfully installed mugrade-1.2\n",
            "Looking in indexes: https://pypi.org/simple, https://us-python.pkg.dev/colab-wheels/public/simple/\n",
            "Collecting pybind11\n",
            "  Downloading pybind11-2.10.3-py3-none-any.whl (222 kB)\n",
            "\u001b[2K     \u001b[90m━━━━━━━━━━━━━━━━━━━━━━━━━━━━━━━━━━━━━━\u001b[0m \u001b[32m222.4/222.4 KB\u001b[0m \u001b[31m16.6 MB/s\u001b[0m eta \u001b[36m0:00:00\u001b[0m\n",
            "\u001b[?25hInstalling collected packages: pybind11\n",
            "Successfully installed pybind11-2.10.3\n",
            "Looking in indexes: https://pypi.org/simple, https://us-python.pkg.dev/colab-wheels/public/simple/\n",
            "Collecting numdifftools\n",
            "  Downloading numdifftools-0.9.41-py2.py3-none-any.whl (100 kB)\n",
            "\u001b[2K     \u001b[90m━━━━━━━━━━━━━━━━━━━━━━━━━━━━━━━━━━━━━━\u001b[0m \u001b[32m100.2/100.2 KB\u001b[0m \u001b[31m12.1 MB/s\u001b[0m eta \u001b[36m0:00:00\u001b[0m\n",
            "\u001b[?25hRequirement already satisfied: numpy>=1.9 in /usr/local/lib/python3.8/dist-packages (from numdifftools) (1.21.6)\n",
            "Requirement already satisfied: scipy>=0.8 in /usr/local/lib/python3.8/dist-packages (from numdifftools) (1.7.3)\n",
            "Installing collected packages: numdifftools\n",
            "Successfully installed numdifftools-0.9.41\n"
          ]
        }
      ],
      "source": [
        "!pip3 install --upgrade --no-deps git+https://github.com/dlsyscourse/mugrade.git\n",
        "!pip3 install pybind11\n",
        "!pip3 install numdifftools"
      ]
    },
    {
      "cell_type": "markdown",
      "metadata": {
        "id": "i__TGMWxgWOp"
      },
      "source": [
        "## Question 1: A basic `add` function, and testing/autograding \n",
        "\n",
        "\n",
        "basics\n",
        "\n",
        "To illustrate the workflow of these assignments and the autograding system, we'll use a simple example of implementing an `add` function.  Note that the commands run above will create the following structure in your `10714/hw0` directory\n",
        "\n",
        "    data/\n",
        "        train-images-idx3-ubyte.gz\n",
        "        train-labels-idx1-ubyte.gz\n",
        "        t10k-images-idx3-ubyte.gz\n",
        "        t10k-labels-idx1-ubyte.gz\n",
        "    src/\n",
        "        simple_ml.py\n",
        "        simple_ml_ext.cpp\n",
        "    tests/\n",
        "        test_simple_ml.py\n",
        "    Makefile\n",
        "    \n",
        "The `data/` directory contains the data needed for this assignment (a copy of the MNIST data set); the `src/` directory contains the source files where you will write your implementations; the `tests/` directory contains tests that will evaluate (locally) your solution, and also submit them for autograding.  And the `Makefile` file is a makefile that will compile the code (relevant for the C++ portions of the assignment).\n",
        "\n",
        "The first homework question requires you to implement `simple_ml.add()` function (this trivial function is not used anywhere, it is just an example to get you used to the structure of the assignment).  Looking at the `src/simple_ml.py` file, you will find the following function stub for the `add()` function.\n",
        "\n",
        "```python\n",
        "def add(x, y):\n",
        "    \"\"\" A trivial 'add' function you should implement to get used to the \n",
        "    autograder and submission system.  The solution to this problem is in\n",
        "    the homework notebook.\n",
        "\n",
        "    Args:\n",
        "        x (Python number or numpy array)\n",
        "        y (Python number or numpy array)\n",
        "\n",
        "    Return:\n",
        "        Sum of x + y\n",
        "    \"\"\"\n",
        "    ### YOUR CODE HERE\n",
        "    pass\n",
        "    ### END YOUR CODE\n",
        "```\n",
        "The docstring in each file defines the expected input/output mapping that your function should produce (you need to get used to reading carefully, as the number one source of errors in submissions, we typically find,  is simply not reading the spec).  And hopefully it's pretty obvious to you how to implement this function.  You would just replace the `pass` statement with the correct code, namely the following:\n",
        "\n",
        "```python\n",
        "def add(x, y):\n",
        "    \"\"\" A trivial 'add' function you should implement to get used to the \n",
        "    autograder and submission system.  The solution to this problem is in the\n",
        "    the homework notebook.\n",
        "\n",
        "    Args:\n",
        "        x (Python number or numpy array)\n",
        "        y (Python number or numpy array)\n",
        "\n",
        "    Return:\n",
        "        Sum of x + y\n",
        "    \"\"\"\n",
        "    ### YOUR CODE HERE\n",
        "    return x + y\n",
        "    ### END YOUR CODE\n",
        "```\n",
        "Go ahead and do this in your `src/simple_ml.py` file."
      ]
    },
    {
      "cell_type": "markdown",
      "metadata": {
        "id": "sqfZL5UPgWOq"
      },
      "source": [
        "### Running local tests\n",
        "\n",
        "Now you will want to test to see if your code works, and if so, to submit it to the autograding system.  Throughout this course, we are using standard tools for running unit tests on code, namely the `pytest` system.  Once you've written the correct code in the `src/simple_ml.py` file, run the following command below."
      ]
    },
    {
      "cell_type": "code",
      "execution_count": null,
      "metadata": {
        "id": "ctbY4r2kgWOq",
        "colab": {
          "base_uri": "https://localhost:8080/"
        },
        "outputId": "ec8168f0-f035-4db3-c3ed-0d09bb2fe700"
      },
      "outputs": [
        {
          "output_type": "stream",
          "name": "stdout",
          "text": [
            "\u001b[1m============================= test session starts ==============================\u001b[0m\n",
            "platform linux -- Python 3.8.16, pytest-3.6.4, py-1.11.0, pluggy-0.7.1\n",
            "rootdir: /content/drive/MyDrive/10714/hw0, inifile:\n",
            "plugins: typeguard-2.7.1\n",
            "collected 6 items / 5 deselected                                               \u001b[0m\n",
            "\n",
            "tests/test_simple_ml.py .\u001b[36m                                                [100%]\u001b[0m\n",
            "\n",
            "\u001b[32m\u001b[1m==================== 1 passed, 5 deselected in 1.85 seconds ====================\u001b[0m\n"
          ]
        }
      ],
      "source": [
        "!python3 -m pytest -k \"add\""
      ]
    },
    {
      "cell_type": "markdown",
      "metadata": {
        "id": "3q7S8Z4sgWOr"
      },
      "source": [
        "If all goes correctly, you will see that one tests is passed correctly.  To see how this test works, take a look at the `tests/test_simple_ml.py` file, specifically the `test_add()` function:\n",
        "\n",
        "```python\n",
        "def test_add():\n",
        "    assert add(5,6) == 11\n",
        "    assert add(3.2,1.0) == 4.2\n",
        "    assert type(add(4., 4)) == float\n",
        "    np.testing.assert_allclose(add(np.array([1,2]), np.array([3,4])),\n",
        "                               np.array([4,6]))\n",
        "```\n",
        "\n",
        "This code runs a suite of unit tests against your implemented function.  If the function is implemented correctly, then all the assertions above _should_ pass (i.e., the code will execute without errors).  If on the other hand, you implemented something incorrectly (say, changed the `x + y` above to `x - y`), then these assertions will fail, and `pytest` will indicate that the corresponding test failed."
      ]
    },
    {
      "cell_type": "code",
      "execution_count": null,
      "metadata": {
        "id": "mW86m83NgWOs",
        "colab": {
          "base_uri": "https://localhost:8080/"
        },
        "outputId": "359979e3-8549-45d9-cef3-50b6b52a4c4e"
      },
      "outputs": [
        {
          "output_type": "stream",
          "name": "stdout",
          "text": [
            "\u001b[1m============================= test session starts ==============================\u001b[0m\n",
            "platform linux -- Python 3.8.16, pytest-3.6.4, py-1.11.0, pluggy-0.7.1\n",
            "rootdir: /content/drive/MyDrive/10714/hw0, inifile:\n",
            "plugins: typeguard-2.7.1\n",
            "collected 6 items / 5 deselected                                               \u001b[0m\n",
            "\n",
            "tests/test_simple_ml.py .\u001b[36m                                                [100%]\u001b[0m\n",
            "\n",
            "\u001b[32m\u001b[1m==================== 1 passed, 5 deselected in 0.49 seconds ====================\u001b[0m\n"
          ]
        }
      ],
      "source": [
        "# in this example cell, we replaced \"x + y\" with \"x - y\" in simple_ml.add()\n",
        "!python3 -m pytest -k \"add\""
      ]
    },
    {
      "cell_type": "markdown",
      "metadata": {
        "id": "cpOfJuXmgWOs"
      },
      "source": [
        "As you can see, you will get an error that indicates the line where the assertion failed, which you can then use to go back and debug your implementation.  **You should get comfortabale with reading and tracing through the tests file as a way of better understanding how your implementations should work.**\n",
        "\n",
        "Learning to properly develop and use unit tests is crucial to modern software development, and hopefully a secondary outcome of this course is that you become familiar with the typical usage of unit tests within software development.  Of course, this isn't entirely true, because you don't necessarily need to _write_ your own tests to pass the questions here, but you _should_ become familiar with how to read the test files that we provide, as a way to understand how your function should behave.  However, we _absolutely_ would also encourage you to write additional tests for your implementations, especially if you find that your code is passing the local tests, but still seems to be failing on submission.\n",
        "\n",
        "One last quick comment.  If you're used to debugging code via print statements, note that **pytest will by default capture any output**. You can disable this behavior and have the tests display all output in all cases by passing the `-s` flag to pytest."
      ]
    },
    {
      "cell_type": "markdown",
      "metadata": {
        "id": "07ApEAD4gWOt"
      },
      "source": [
        "### Submitting to the autograder\n",
        "\n",
        "Now that you have passed the unit tests, it is time to submit your solution for autograding.  For autograding in this class we are using a custom application written by the course instructors.  To start the autograding progress, go to http://mugrade.dlsyscourse.org (or http://mugrade-online.dlsyscourse.org for the public online version of the course) and login in **using your course email** (for CMU students, this will be your andrew email, for online course students, this will be the email you used to sign up for the course).  We have created accounts for everyone under these emails in mugrade, but you will need to reset your password using the \"Forgot you password?\" link.\n",
        "\n",
        "Once you've created an account, in the left hand navigation bar, click on the \"Grader Key\" link, and copy the associated key (including the leading underscore if present).  This key is linked to _your submissions_ for the course, and anyone with the key could submit your assignments; therefore, you should not share this key with anyone, and just use it to submit your own code below.  Once you have this key, run the following command."
      ]
    },
    {
      "cell_type": "code",
      "execution_count": null,
      "metadata": {
        "id": "-4M2thH_gWOt",
        "colab": {
          "base_uri": "https://localhost:8080/"
        },
        "outputId": "dc73f49b-fbc1-474e-c9d9-c40a98b66ff5"
      },
      "outputs": [
        {
          "output_type": "stream",
          "name": "stdout",
          "text": [
            "submit\n",
            "\u001b[1m============================= test session starts ==============================\u001b[0m\n",
            "platform linux -- Python 3.8.16, pytest-3.6.4, py-1.11.0, pluggy-0.7.1\n",
            "rootdir: /content/drive/MyDrive/10714/hw0, inifile:\n",
            "plugins: typeguard-2.7.1\n",
            "collected 6 items / 5 deselected                                               \u001b[0m\n",
            "\n",
            "tests/test_simple_ml.py F\n",
            "\n",
            "=================================== FAILURES ===================================\n",
            "\u001b[31m\u001b[1m__________________________________ submit_add __________________________________\u001b[0m\n",
            "\n",
            "pyfuncitem = <Function 'submit_add'>\n",
            "\n",
            "\u001b[1m    @pytest.hookimpl(hookwrapper=True)\u001b[0m\n",
            "\u001b[1m    def pytest_pyfunc_call(pyfuncitem):\u001b[0m\n",
            "\u001b[1m        ## prior to test, initialize submission\u001b[0m\n",
            "\u001b[1m        global _values, _submission_key, _errors\u001b[0m\n",
            "\u001b[1m        _values = []\u001b[0m\n",
            "\u001b[1m        _errors = 0\u001b[0m\n",
            "\u001b[1m        func_name = pyfuncitem.name[7:]\u001b[0m\n",
            "\u001b[1m        if os.environ[\"MUGRADE_OP\"] == \"submit\":\u001b[0m\n",
            "\u001b[1m>           _submission_key = start_submission(func_name)\u001b[0m\n",
            "\n",
            "\u001b[1m\u001b[31m/usr/local/lib/python3.8/dist-packages/mugrade/mugrade.py\u001b[0m:164: \n",
            "_ _ _ _ _ _ _ _ _ _ _ _ _ _ _ _ _ _ _ _ _ _ _ _ _ _ _ _ _ _ _ _ _ _ _ _ _ _ _ _ \n",
            "\n",
            "func_name = 'add'\n",
            "\n",
            "\u001b[1m    def start_submission(func_name):\u001b[0m\n",
            "\u001b[1m        \"\"\" Begin a submisssion to the mugrade server \"\"\"\u001b[0m\n",
            "\u001b[1m    \u001b[0m\n",
            "\u001b[1m        server_url, protocol = get_server_url_protocol(os.environ[\"MUGRADE_KEY\"])\u001b[0m\n",
            "\u001b[1m        response = requests.post(server_url + \"submission\",\u001b[0m\n",
            "\u001b[1m                                 params = {\"user_key\": os.environ[\"MUGRADE_KEY\"],\u001b[0m\n",
            "\u001b[1m                                           \"func_name\": func_name},\u001b[0m\n",
            "\u001b[1m                                 verify=False)\u001b[0m\n",
            "\u001b[1m    \u001b[0m\n",
            "\u001b[1m    \u001b[0m\n",
            "\u001b[1m        if response.status_code != 200:\u001b[0m\n",
            "\u001b[1m            raise Exception(f\"Error : {response.text}\")\u001b[0m\n",
            "\u001b[1m>       return response.json()[\"submission_key\"]\u001b[0m\n",
            "\u001b[1m\u001b[31mE       KeyError: 'submission_key'\u001b[0m\n",
            "\n",
            "\u001b[1m\u001b[31m/usr/local/lib/python3.8/dist-packages/mugrade/mugrade.py\u001b[0m:103: KeyError\n",
            "\u001b[31m\u001b[1m==================== 1 failed, 5 deselected in 0.82 seconds ====================\u001b[0m\n"
          ]
        }
      ],
      "source": [
        "!python3 -m mugrade submit _PvPWmSuJ3lkWWMzhXiOn -k \"add\""
      ]
    },
    {
      "cell_type": "markdown",
      "metadata": {
        "id": "HRCsYdWFgWOu"
      },
      "source": [
        "Running this command will submit your `add` function to the mugrade autograding system.  To see how this works internally, take a look at the `tests/test_simply_ml.py` file again, but this time the `submit_add()` function right below the `test_add` function.\n",
        "\n",
        "```python\n",
        "def submit_add():\n",
        "    mugrade.submit(add(1,2))\n",
        "    mugrade.submit(add(4.5, 3.2))\n",
        "    mugrade.submit(type(add(3,2)))\n",
        "    mugrade.submit(add(np.array([1.,2.]), np.array[5,6]))\n",
        "```\n",
        "\n",
        "This code looks a bit like a unit test above, but instead of assertions there are calls to `mugrade.submit()`.  These calls each evaluate the `add` function on different inputs, then send the result to the mugrade server.  The server compares the output of your function with the correct output (which is only stored on the server, not locally, so you cannot know in advance what the correct answer is), and updates your score for the assignment accordingly.  If you are logged into the mugrade system, you can go to the \"Homework 0\" assignment to see your updated grade (clicking \"Refresh\" as necessary if you are already viewing the page).\n",
        "\n",
        "**Important note:** For those of you familiar with autograding systems, you might notice that mugrade works a bit differently than most.  In most autograding systems you write your code to pass local tests (if you're lucky, some classes don't even provide these), then bundle up your code and submit it to the autograding system, which will unpack and execute your code on the autograding server, running it against some (unknown, for you) test cases.  Mugrade is different: the `submit_add` function is run on _your system_ (e.g., in the Colab environment you are running), and only the _results_ of the calls are sent to the server.\n",
        "\n",
        "The rationale for this setup is a subtle but important one.  This class requires you to develop a fairly complex system, which runs your code on specialized hardware like GPUs, on potentially long tests that train real neural network architectures.  Being unable to debug the execution of your code on the autograding test cases poses a substantial challenge in practice, not to mention issues of server capacity and slowdowns that occur usually right at the grading deadline.  Moving computation locally means that you have a lot more insight into how your code is actually running on the autograder test cases, which is extremely valuable for debugging.  By _far_ the most common post on forums for similar courses is \"my code passes all the local tests but fails on the autograder\"; and while this situation can _still_ happen in mugrade, you can at least step through the execution of your code to see _where_ and _how_ it fails.  And because the server only needs to perform simple checks of your input against the correct outputs, the server is very simple, and you will get the feedback from the autograder immediately, even right at the submission deadline.\n",
        "\n",
        "The _disadvantage_ of a grading system like this is that it's possible to cheat.  Because you have complete control over the local execution of your code on the autograding test cases, you could, in theory, just figure out what the correct answers should be, and return them without actually implementing the required code.  Later in this assignment, for instance, you're required to write a C++ implementation of softmax regression in addition to the initial Python one.  It would be completely possible to change the autograder to use your Python implementation, rather than the C++ one, and still pass the tests.  That being said, **please do not attempt to circumvent the autograding system in any way**.  Our goal for this system is to make it genuinely easier for your to debug and develop your code, and to make the experience more similar to the \"real\" development process, and less a matter of \"figuring out why the autograder doesn't compile your particular variant of CUDA code\".  To address this point, in addition to submitting the autograder tests, when you are finished with your submission you need to also upload a `.tar.gz` file of your `/src` directory in your solution to the mugrade system.  We trust that this will not be an issue, but if there _are_ any concerns, the TAs will always be able to validate that your code produces the results (they will also be running against standard plagiarism detection systems like MOSS).\n",
        "\n"
      ]
    },
    {
      "cell_type": "markdown",
      "metadata": {
        "id": "DNWpKIW6gWOv"
      },
      "source": [
        "## Question 2: Loading MNIST data\n",
        "\n",
        "Now that you're familiar with the autograding system, try it out on the next function you need to implement in the `src/simple_ml.py` file: the `parse_mnist_data()` function.  Here is the function declaration from the file (we typically won't walk through this whole process again, but will do so here one more time).\n",
        "\n",
        "```python\n",
        "def parse_mnist(image_filename, label_filename):  \n",
        "    \"\"\" Read an images and labels file in MNIST format.  See this page:\n",
        "    http://yann.lecun.com/exdb/mnist/ for a description of the file format.\n",
        "\n",
        "    Args:\n",
        "        image_filename (str): name of gzipped images file in MNIST format\n",
        "        label_filename (str): name of gzipped labels file in MNIST format\n",
        "\n",
        "    Returns:\n",
        "        Tuple (X,y):\n",
        "            X (numpy.ndarray[np.float32]): 2D numpy array containing the loaded \n",
        "                data.  The dimensionality of the data should be \n",
        "                (num_examples x input_dim) where 'input_dim' is the full \n",
        "                dimension of the data, e.g., since MNIST images are 28x28, it \n",
        "                will be 784.  Values should be of type np.float32, and the data \n",
        "                should be normalized to have a minimum value of 0.0 and a \n",
        "                maximum value of 1.0. The normalization should be applied uniformly\n",
        "                across the whole dataset, _not_ individual images.\n",
        "\n",
        "            y (numpy.ndarray[dtype=np.uint8]): 1D numpy array containing the\n",
        "                labels of the examples.  Values should be of type np.uint8 and\n",
        "                for MNIST will contain the values 0-9.\n",
        "    \"\"\"\n",
        "    ### YOUR CODE HERE\n",
        "    pass\n",
        "    ### END YOUR CODE\n",
        "```\n",
        "\n",
        "Hopefully you're now familiar with how this docstring works, and have an idea about how to go about implementing this function.  First, go to http://yann.lecun.com/exdb/mnist/ or this alternate [link](https://web.archive.org/web/20220509025752/http://yann.lecun.com/exdb/mnist/) (the bottom of the page) to read about the binary format for the MNIST data.  Then write a loader that will read files of this type, and return numpy arrays according to the specification in the docstring (if you're having any issues with the implementation, be sure to read the docstring closely).  We'd recommend you use the `struct` module in python (along with the `gzip` module and of course `numpy` itself), in order to implement this function.\n",
        "\n",
        "When you've implemented the function run the local unit tests.\n",
        "![image.png](data:image/png;base64,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)\n"
      ]
    },
    {
      "cell_type": "code",
      "execution_count": null,
      "metadata": {
        "id": "rTGIZYrQgWOv",
        "colab": {
          "base_uri": "https://localhost:8080/"
        },
        "outputId": "7dd1bf21-c45c-4977-9bd1-9727047aee32"
      },
      "outputs": [
        {
          "output_type": "stream",
          "name": "stdout",
          "text": [
            "\u001b[1m============================= test session starts ==============================\u001b[0m\n",
            "platform linux -- Python 3.8.16, pytest-3.6.4, py-1.11.0, pluggy-0.7.1\n",
            "rootdir: /content/drive/MyDrive/10714/hw0, inifile:\n",
            "plugins: typeguard-2.7.1\n",
            "collected 6 items / 5 deselected                                               \u001b[0m\n",
            "\n",
            "tests/test_simple_ml.py .\n",
            "\n",
            "\u001b[32m\u001b[1m==================== 1 passed, 5 deselected in 1.75 seconds ====================\u001b[0m\n"
          ]
        }
      ],
      "source": [
        "!python3 -m pytest -k \"parse_mnist\" -s"
      ]
    },
    {
      "cell_type": "markdown",
      "metadata": {
        "id": "6-8RG89MgWOv"
      },
      "source": [
        "And then submit your code to mugrade."
      ]
    },
    {
      "cell_type": "code",
      "execution_count": null,
      "metadata": {
        "id": "Jni-lrfMgWOv",
        "colab": {
          "base_uri": "https://localhost:8080/"
        },
        "outputId": "577f784d-3c1f-4fec-d724-31a7855767a1"
      },
      "outputs": [
        {
          "output_type": "stream",
          "name": "stdout",
          "text": [
            "submit\n",
            "\u001b[1m============================= test session starts ==============================\u001b[0m\n",
            "platform linux -- Python 3.8.16, pytest-3.6.4, py-1.11.0, pluggy-0.7.1\n",
            "rootdir: /content/drive/MyDrive/10714/hw0, inifile:\n",
            "plugins: typeguard-2.7.1\n",
            "collected 6 items / 5 deselected                                               \u001b[0m\n",
            "\n",
            "tests/test_simple_ml.py F\n",
            "\n",
            "=================================== FAILURES ===================================\n",
            "\u001b[31m\u001b[1m______________________________ submit_parse_mnist ______________________________\u001b[0m\n",
            "\n",
            "pyfuncitem = <Function 'submit_parse_mnist'>\n",
            "\n",
            "\u001b[1m    @pytest.hookimpl(hookwrapper=True)\u001b[0m\n",
            "\u001b[1m    def pytest_pyfunc_call(pyfuncitem):\u001b[0m\n",
            "\u001b[1m        ## prior to test, initialize submission\u001b[0m\n",
            "\u001b[1m        global _values, _submission_key, _errors\u001b[0m\n",
            "\u001b[1m        _values = []\u001b[0m\n",
            "\u001b[1m        _errors = 0\u001b[0m\n",
            "\u001b[1m        func_name = pyfuncitem.name[7:]\u001b[0m\n",
            "\u001b[1m        if os.environ[\"MUGRADE_OP\"] == \"submit\":\u001b[0m\n",
            "\u001b[1m>           _submission_key = start_submission(func_name)\u001b[0m\n",
            "\n",
            "\u001b[1m\u001b[31m/usr/local/lib/python3.8/dist-packages/mugrade/mugrade.py\u001b[0m:164: \n",
            "_ _ _ _ _ _ _ _ _ _ _ _ _ _ _ _ _ _ _ _ _ _ _ _ _ _ _ _ _ _ _ _ _ _ _ _ _ _ _ _ \n",
            "\n",
            "func_name = 'parse_mnist'\n",
            "\n",
            "\u001b[1m    def start_submission(func_name):\u001b[0m\n",
            "\u001b[1m        \"\"\" Begin a submisssion to the mugrade server \"\"\"\u001b[0m\n",
            "\u001b[1m    \u001b[0m\n",
            "\u001b[1m        server_url, protocol = get_server_url_protocol(os.environ[\"MUGRADE_KEY\"])\u001b[0m\n",
            "\u001b[1m        response = requests.post(server_url + \"submission\",\u001b[0m\n",
            "\u001b[1m                                 params = {\"user_key\": os.environ[\"MUGRADE_KEY\"],\u001b[0m\n",
            "\u001b[1m                                           \"func_name\": func_name},\u001b[0m\n",
            "\u001b[1m                                 verify=False)\u001b[0m\n",
            "\u001b[1m    \u001b[0m\n",
            "\u001b[1m    \u001b[0m\n",
            "\u001b[1m        if response.status_code != 200:\u001b[0m\n",
            "\u001b[1m            raise Exception(f\"Error : {response.text}\")\u001b[0m\n",
            "\u001b[1m>       return response.json()[\"submission_key\"]\u001b[0m\n",
            "\u001b[1m\u001b[31mE       KeyError: 'submission_key'\u001b[0m\n",
            "\n",
            "\u001b[1m\u001b[31m/usr/local/lib/python3.8/dist-packages/mugrade/mugrade.py\u001b[0m:103: KeyError\n",
            "\u001b[31m\u001b[1m==================== 1 failed, 5 deselected in 0.87 seconds ====================\u001b[0m\n"
          ]
        }
      ],
      "source": [
        "!python3 -m mugrade submit YOUR_GRADER_KEY_HERE -k \"parse_mnist\""
      ]
    },
    {
      "cell_type": "markdown",
      "metadata": {
        "id": "8rHhno3RgWOw"
      },
      "source": [
        "## Question 3: Softmax loss\n",
        "\n",
        "Implement the softmax (a.k.a. cross-entropy) loss as defined in `softmax_loss()` function in `src/simple_ml.py`.  Recall (hopefully this is review, but we'll also cover it in lecture on 9/1), that for a multi-class output that can take on values $y \\in \\{1,\\ldots,k\\}$, the softmax loss takes as input a vector of logits $z \\in \\mathbb{R}^k$, the true class $y \\in \\{1,\\ldots,k\\}$ returns a loss defined by\n",
        "\\begin{equation}\n",
        "\\ell_{\\mathrm{softmax}}(z, y) = \\log(\\sum_{i=1}^k \\exp(z_i)) - z_y.\n",
        "\\end{equation}\n",
        "\n",
        "Note that as described in its docstring, `softmax_loss()` takes a _2D array_ of logits (i.e., the $k$ dimensional logits for a batch of different samples), plus a corresponding 1D array of true labels, and should output the _average_ softmax loss over the entire batch.  Note that to do this correctly, you should _not_ use any loops, but do all the computation natively with numpy vectorized operations (to set expectations here, we should note for instance that our reference solution consists of a single line of code).\n",
        "\n",
        "Note that for \"real\" implementation of softmax loss you would want to scale the logits to prevent numerical overflow, but we won't worry about that here (the rest of the assignment will work fine even if you don't worry about this).  The code below runs the test cases."
      ]
    },
    {
      "cell_type": "code",
      "execution_count": null,
      "metadata": {
        "id": "eJs_KsbngWOw",
        "colab": {
          "base_uri": "https://localhost:8080/"
        },
        "outputId": "fbde33e9-5cdd-48f4-9136-b3bef421c806"
      },
      "outputs": [
        {
          "output_type": "stream",
          "name": "stdout",
          "text": [
            "\u001b[1m============================= test session starts ==============================\u001b[0m\n",
            "platform linux -- Python 3.8.16, pytest-3.6.4, py-1.11.0, pluggy-0.7.1\n",
            "rootdir: /content/drive/MyDrive/10714/hw0, inifile:\n",
            "plugins: typeguard-2.7.1\n",
            "collected 6 items / 5 deselected                                               \u001b[0m\n",
            "\n",
            "tests/test_simple_ml.py .\n",
            "\n",
            "\u001b[32m\u001b[1m==================== 1 passed, 5 deselected in 1.22 seconds ====================\u001b[0m\n"
          ]
        }
      ],
      "source": [
        "!python3 -m pytest -k \"softmax_loss\" -s"
      ]
    },
    {
      "cell_type": "markdown",
      "metadata": {
        "id": "c3Q12ynugWOw"
      },
      "source": [
        "Then run the submission."
      ]
    },
    {
      "cell_type": "code",
      "execution_count": null,
      "metadata": {
        "id": "bG2RiQj7gWOx",
        "colab": {
          "base_uri": "https://localhost:8080/"
        },
        "outputId": "5ee50fc2-0fa0-418b-be25-09e319c0a871"
      },
      "outputs": [
        {
          "output_type": "stream",
          "name": "stdout",
          "text": [
            "submit\n",
            "\u001b[1m============================= test session starts ==============================\u001b[0m\n",
            "platform linux -- Python 3.8.16, pytest-3.6.4, py-1.11.0, pluggy-0.7.1\n",
            "rootdir: /content/drive/MyDrive/10714/hw0, inifile:\n",
            "plugins: typeguard-2.7.1\n",
            "collected 6 items / 5 deselected                                               \u001b[0m\n",
            "\n",
            "tests/test_simple_ml.py F\n",
            "\n",
            "=================================== FAILURES ===================================\n",
            "\u001b[31m\u001b[1m_____________________________ submit_softmax_loss ______________________________\u001b[0m\n",
            "\n",
            "pyfuncitem = <Function 'submit_softmax_loss'>\n",
            "\n",
            "\u001b[1m    @pytest.hookimpl(hookwrapper=True)\u001b[0m\n",
            "\u001b[1m    def pytest_pyfunc_call(pyfuncitem):\u001b[0m\n",
            "\u001b[1m        ## prior to test, initialize submission\u001b[0m\n",
            "\u001b[1m        global _values, _submission_key, _errors\u001b[0m\n",
            "\u001b[1m        _values = []\u001b[0m\n",
            "\u001b[1m        _errors = 0\u001b[0m\n",
            "\u001b[1m        func_name = pyfuncitem.name[7:]\u001b[0m\n",
            "\u001b[1m        if os.environ[\"MUGRADE_OP\"] == \"submit\":\u001b[0m\n",
            "\u001b[1m>           _submission_key = start_submission(func_name)\u001b[0m\n",
            "\n",
            "\u001b[1m\u001b[31m/usr/local/lib/python3.8/dist-packages/mugrade/mugrade.py\u001b[0m:164: \n",
            "_ _ _ _ _ _ _ _ _ _ _ _ _ _ _ _ _ _ _ _ _ _ _ _ _ _ _ _ _ _ _ _ _ _ _ _ _ _ _ _ \n",
            "\n",
            "func_name = 'softmax_loss'\n",
            "\n",
            "\u001b[1m    def start_submission(func_name):\u001b[0m\n",
            "\u001b[1m        \"\"\" Begin a submisssion to the mugrade server \"\"\"\u001b[0m\n",
            "\u001b[1m    \u001b[0m\n",
            "\u001b[1m        server_url, protocol = get_server_url_protocol(os.environ[\"MUGRADE_KEY\"])\u001b[0m\n",
            "\u001b[1m        response = requests.post(server_url + \"submission\",\u001b[0m\n",
            "\u001b[1m                                 params = {\"user_key\": os.environ[\"MUGRADE_KEY\"],\u001b[0m\n",
            "\u001b[1m                                           \"func_name\": func_name},\u001b[0m\n",
            "\u001b[1m                                 verify=False)\u001b[0m\n",
            "\u001b[1m    \u001b[0m\n",
            "\u001b[1m    \u001b[0m\n",
            "\u001b[1m        if response.status_code != 200:\u001b[0m\n",
            "\u001b[1m            raise Exception(f\"Error : {response.text}\")\u001b[0m\n",
            "\u001b[1m>       return response.json()[\"submission_key\"]\u001b[0m\n",
            "\u001b[1m\u001b[31mE       KeyError: 'submission_key'\u001b[0m\n",
            "\n",
            "\u001b[1m\u001b[31m/usr/local/lib/python3.8/dist-packages/mugrade/mugrade.py\u001b[0m:103: KeyError\n",
            "\u001b[31m\u001b[1m==================== 1 failed, 5 deselected in 0.76 seconds ====================\u001b[0m\n"
          ]
        }
      ],
      "source": [
        "!python3 -m mugrade submit \"_PvPWmSuJ3lkWWMzhXiOn\" -k \"softmax_loss\""
      ]
    },
    {
      "cell_type": "markdown",
      "metadata": {
        "id": "XMBzJkfpgWOx"
      },
      "source": [
        "## Question 4: Stochastic gradient descent for softmax regression\n",
        "\n",
        "In this question you will implement stochastic gradient descent (SGD) for (linear) softmax regression.  In other words, as discussed in lecture on 9/1, we will consider a hypothesis function that makes $n$-dimensional inputs to $k$-dimensional logits via the function\n",
        "\\begin{equation}\n",
        "h(x) = \\Theta^T x\n",
        "\\end{equation}\n",
        "where $x \\in \\mathbb{R}^n$ is the input, and $\\Theta \\in \\mathbb{R}^{n \\times k}$ are the model parameters.  Given a dataset $\\{(x^{(i)} \\in \\mathbb{R}^n, y^{(i)} \\in \\{1,\\ldots,k\\})\\}$, for $i=1,\\ldots,m$, the optimization problem associated with softmax regression is thus given by\n",
        "\\begin{equation}\n",
        "\\DeclareMathOperator*{\\minimize}{minimize}\n",
        "\\minimize_{\\Theta} \\; \\frac{1}{m} \\sum_{i=1}^m \\ell_{\\mathrm{softmax}}(\\Theta^T x^{(i)}, y^{(i)}).\n",
        "\\end{equation}\n",
        "\n",
        "Recall from class that the gradient of the linear softmax objective is given by\n",
        "\\begin{equation}\n",
        "\\nabla_\\Theta \\ell_{\\mathrm{softmax}}(\\Theta^T x, y) = x (z - e_y)^T\n",
        "\\end{equation}\n",
        "where\n",
        "\\begin{equation}\n",
        "\\DeclareMathOperator*{\\normalize}{normalize}\n",
        "z = \\frac{\\exp(\\Theta^T x)}{1^T \\exp(\\Theta^T x)} \\equiv \\normalize(\\exp(\\Theta^T x))\n",
        "\\end{equation}\n",
        "(i.e., $z$ is just the normalized softmax probabilities), and where $e_y$ denotes the $y$th unit basis, i.e., a vector of all zeros with a one in the $y$th position.\n",
        "\n",
        "We can also write this in the more compact notation we discussed in class.  Namely, if we let $X \\in \\mathbb{R}^{m \\times n}$ denote a design matrix of some $m$ inputs (either the entire dataset or a minibatch), $y \\in \\{1,\\ldots,k\\}^m$ a corresponding vector of labels, and overloading $\\ell_{\\mathrm{softmax}}$ to refer to the average softmax loss, then\n",
        "\\begin{equation}\n",
        "\\nabla_\\Theta \\ell_{\\mathrm{softmax}}(X \\Theta, y) = \\frac{1}{m} X^T (Z - I_y)\n",
        "\\end{equation}\n",
        "where\n",
        "\\begin{equation}\n",
        "Z = \\normalize(\\exp(X \\Theta)) \\quad \\mbox{(normalization applied row-wise)}\n",
        "\\end{equation}\n",
        "denotes the matrix of logits, and $I_y \\in \\mathbb{R}^{m \\times k}$ represents a concatenation of one-hot bases for the labels in $y$.\n",
        "\n",
        "Using these gradients, implement the `softmax_regression_epoch()` function, which runs a single epoch of SGD (one pass over a data set) using the specified learning rate / step size `lr` and minibatch size `batch`.  As described in the docstring, your function should modify the `Theta` array in-place.  After implementation, run the tests."
      ]
    },
    {
      "cell_type": "code",
      "execution_count": null,
      "metadata": {
        "id": "DJabEQM2gWOx",
        "colab": {
          "base_uri": "https://localhost:8080/"
        },
        "outputId": "c42c24e9-e123-4235-b965-88694b15ef98"
      },
      "outputs": [
        {
          "output_type": "stream",
          "name": "stdout",
          "text": [
            "\u001b[1m============================= test session starts ==============================\u001b[0m\n",
            "platform linux -- Python 3.8.16, pytest-3.6.4, py-1.11.0, pluggy-0.7.1\n",
            "rootdir: /content/drive/MyDrive/10714/hw0, inifile:\n",
            "plugins: typeguard-2.7.1\n",
            "collected 6 items / 5 deselected                                               \u001b[0m\n",
            "\n",
            "tests/test_simple_ml.py .\n",
            "\n",
            "\u001b[32m\u001b[1m==================== 1 passed, 5 deselected in 0.89 seconds ====================\u001b[0m\n"
          ]
        }
      ],
      "source": [
        "!python3 -m pytest -k \"softmax_regression_epoch and not cpp\" -s"
      ]
    },
    {
      "cell_type": "markdown",
      "metadata": {
        "id": "VCUpJSgrgWOy"
      },
      "source": [
        "And then run the submission."
      ]
    },
    {
      "cell_type": "code",
      "execution_count": null,
      "metadata": {
        "id": "mYIe47GtgWOy",
        "colab": {
          "base_uri": "https://localhost:8080/"
        },
        "outputId": "fa1ae9e6-2bbc-43f4-a931-38ca2010e50e"
      },
      "outputs": [
        {
          "output_type": "stream",
          "name": "stdout",
          "text": [
            "submit\n",
            "\u001b[1m============================= test session starts ==============================\u001b[0m\n",
            "platform linux -- Python 3.8.16, pytest-3.6.4, py-1.11.0, pluggy-0.7.1\n",
            "rootdir: /content/drive/MyDrive/10714/hw0, inifile:\n",
            "plugins: typeguard-2.7.1\n",
            "collected 6 items / 5 deselected                                               \u001b[0m\n",
            "\n",
            "tests/test_simple_ml.py F\n",
            "\n",
            "=================================== FAILURES ===================================\n",
            "\u001b[31m\u001b[1m_______________________ submit_softmax_regression_epoch ________________________\u001b[0m\n",
            "\n",
            "pyfuncitem = <Function 'submit_softmax_regression_epoch'>\n",
            "\n",
            "\u001b[1m    @pytest.hookimpl(hookwrapper=True)\u001b[0m\n",
            "\u001b[1m    def pytest_pyfunc_call(pyfuncitem):\u001b[0m\n",
            "\u001b[1m        ## prior to test, initialize submission\u001b[0m\n",
            "\u001b[1m        global _values, _submission_key, _errors\u001b[0m\n",
            "\u001b[1m        _values = []\u001b[0m\n",
            "\u001b[1m        _errors = 0\u001b[0m\n",
            "\u001b[1m        func_name = pyfuncitem.name[7:]\u001b[0m\n",
            "\u001b[1m        if os.environ[\"MUGRADE_OP\"] == \"submit\":\u001b[0m\n",
            "\u001b[1m>           _submission_key = start_submission(func_name)\u001b[0m\n",
            "\n",
            "\u001b[1m\u001b[31m/usr/local/lib/python3.8/dist-packages/mugrade/mugrade.py\u001b[0m:164: \n",
            "_ _ _ _ _ _ _ _ _ _ _ _ _ _ _ _ _ _ _ _ _ _ _ _ _ _ _ _ _ _ _ _ _ _ _ _ _ _ _ _ \n",
            "\n",
            "func_name = 'softmax_regression_epoch'\n",
            "\n",
            "\u001b[1m    def start_submission(func_name):\u001b[0m\n",
            "\u001b[1m        \"\"\" Begin a submisssion to the mugrade server \"\"\"\u001b[0m\n",
            "\u001b[1m    \u001b[0m\n",
            "\u001b[1m        server_url, protocol = get_server_url_protocol(os.environ[\"MUGRADE_KEY\"])\u001b[0m\n",
            "\u001b[1m        response = requests.post(server_url + \"submission\",\u001b[0m\n",
            "\u001b[1m                                 params = {\"user_key\": os.environ[\"MUGRADE_KEY\"],\u001b[0m\n",
            "\u001b[1m                                           \"func_name\": func_name},\u001b[0m\n",
            "\u001b[1m                                 verify=False)\u001b[0m\n",
            "\u001b[1m    \u001b[0m\n",
            "\u001b[1m    \u001b[0m\n",
            "\u001b[1m        if response.status_code != 200:\u001b[0m\n",
            "\u001b[1m            raise Exception(f\"Error : {response.text}\")\u001b[0m\n",
            "\u001b[1m>       return response.json()[\"submission_key\"]\u001b[0m\n",
            "\u001b[1m\u001b[31mE       KeyError: 'submission_key'\u001b[0m\n",
            "\n",
            "\u001b[1m\u001b[31m/usr/local/lib/python3.8/dist-packages/mugrade/mugrade.py\u001b[0m:103: KeyError\n",
            "\u001b[31m\u001b[1m==================== 1 failed, 5 deselected in 0.70 seconds ====================\u001b[0m\n"
          ]
        }
      ],
      "source": [
        "!python3 -m mugrade submit YOUR_GRADER_KEY_HERE -k \"softmax_regression_epoch and not cpp\""
      ]
    },
    {
      "cell_type": "markdown",
      "metadata": {
        "id": "qzVAjhZ_gWOy"
      },
      "source": [
        "### Training MNIST with softmax regression\n",
        "\n",
        "Although it's not a part of the tests, now that you have written this code, you can also try training a full MNIST linear classifier using SGD.  For this you can use the `train_softmax()` function in the `src/simple_ml.py` file (we have already written this function for you, so you don't need to write it yourself, though you can take a look to see what it's doing).  \n",
        "\n",
        "You can see how this works using the following code.  For reference, as seen below, our implementation runs in ~3 seconds on Colab, and achieves 7.97% error."
      ]
    },
    {
      "cell_type": "code",
      "execution_count": null,
      "metadata": {
        "id": "IRKM5ywhgWOy",
        "colab": {
          "base_uri": "https://localhost:8080/"
        },
        "outputId": "f7bf2b21-64dc-4bc7-acfe-f9868faaaac1"
      },
      "outputs": [
        {
          "output_type": "stream",
          "name": "stdout",
          "text": [
            "| Epoch | Train Loss | Train Err | Test Loss | Test Err |\n",
            "|     0 |    0.35134 |   0.10182 |   0.33588 |  0.09400 |\n",
            "|     1 |    0.32142 |   0.09268 |   0.31086 |  0.08730 |\n",
            "|     2 |    0.30802 |   0.08795 |   0.30097 |  0.08550 |\n",
            "|     3 |    0.29987 |   0.08532 |   0.29558 |  0.08370 |\n",
            "|     4 |    0.29415 |   0.08323 |   0.29215 |  0.08230 |\n",
            "|     5 |    0.28981 |   0.08182 |   0.28973 |  0.08090 |\n",
            "|     6 |    0.28633 |   0.08085 |   0.28793 |  0.08080 |\n",
            "|     7 |    0.28345 |   0.07997 |   0.28651 |  0.08040 |\n",
            "|     8 |    0.28100 |   0.07923 |   0.28537 |  0.08010 |\n",
            "|     9 |    0.27887 |   0.07847 |   0.28442 |  0.07970 |\n"
          ]
        }
      ],
      "source": [
        "import sys\n",
        "sys.path.append(\"src/\")\n",
        "from simple_ml import train_softmax, parse_mnist\n",
        "\n",
        "X_tr, y_tr = parse_mnist(\"data/train-images-idx3-ubyte.gz\", \n",
        "                         \"data/train-labels-idx1-ubyte.gz\")\n",
        "X_te, y_te = parse_mnist(\"data/t10k-images-idx3-ubyte.gz\",\n",
        "                         \"data/t10k-labels-idx1-ubyte.gz\")\n",
        "\n",
        "train_softmax(X_tr, y_tr, X_te, y_te, epochs=10, lr=0.2, batch=100)"
      ]
    },
    {
      "cell_type": "markdown",
      "metadata": {
        "id": "eF7x1eu_gWOy"
      },
      "source": [
        "## Question 5: SGD for a two-layer neural network\n",
        "\n",
        "Now that you've written SGD for a linear classifier, let's consider the case of a simple two-layer neural network.  Specifically, for input $x \\in \\mathbb{R}^n$, we'll consider a two-layer neural network (without bias terms) of the form\n",
        "\\begin{equation}\n",
        "z = W_2^T \\mathrm{ReLU}(W_1^T x)\n",
        "\\end{equation}\n",
        "where $W_1 \\in \\mathbb{R}^{n \\times d}$ and $W_2 \\in \\mathbb{R}^{d \\times k}$ represent the weights of the network (which has a $d$-dimensional hidden unit), and where $z \\in \\mathbb{R}^k$ represents the logits output by the network.  We again use the softmax / cross-entropy loss, meaning that we want to solve the optimization problem\n",
        "\\begin{equation}\n",
        "\\minimize_{W_1, W_2} \\;\\; \\frac{1}{m} \\sum_{i=1}^m \\ell_{\\mathrm{softmax}}(W_2^T \\mathrm{ReLU}(W_1^T x^{(i)}), y^{(i)}).\n",
        "\\end{equation}\n",
        "Or alternatively, overloading the notation to describe the batch form with matrix $X \\in \\mathbb{R}^{m \\times n}$, this can also be written \n",
        "\\begin{equation}\n",
        "\\minimize_{W_1, W_2} \\;\\; \\ell_{\\mathrm{softmax}}(\\mathrm{ReLU}(X W_1) W_2, y).\n",
        "\\end{equation}\n",
        "\n",
        "Using the chain rule, we can derive the backpropagation updates for this network (we'll briefly cover these in class, on 9/8, but also provide the final form here for ease of implementation).  Specifically, let\n",
        "\\begin{equation}\n",
        "\\begin{split}\n",
        "Z_1 \\in \\mathbb{R}^{m \\times d} & = \\mathrm{ReLU}(X W_1) \\\\\n",
        "G_2 \\in \\mathbb{R}^{m \\times k} & = \\normalize(\\exp(Z_1 W_2)) - I_y \\\\\n",
        "G_1 \\in \\mathbb{R}^{m \\times d} & = \\mathrm{1}\\{Z_1 > 0\\} \\circ (G_2 W_2^T)\n",
        "\\end{split}\n",
        "\\end{equation}\n",
        "where $\\mathrm{1}\\{Z_1 > 0\\}$ is a binary matrix with entries equal to zero or one depending on whether each term in $Z_1$ is strictly positive and where $\\circ$ denotes elementwise multiplication.  Then the gradients of the objective are given by\n",
        "\\begin{equation}\n",
        "\\begin{split}\n",
        "\\nabla_{W_1} \\ell_{\\mathrm{softmax}}(\\mathrm{ReLU}(X W_1) W_2, y) & = \\frac{1}{m} X^T G_1  \\\\\n",
        "\\nabla_{W_2} \\ell_{\\mathrm{softmax}}(\\mathrm{ReLU}(X W_1) W_2, y) & = \\frac{1}{m} Z_1^T G_2.  \\\\\n",
        "\\end{split}\n",
        "\\end{equation}\n",
        "\n",
        "**Note:** If the details of these precise equations seem a bit cryptic to you (prior to the 9/8 lecture), don't worry too much.  These _are_ just the standard backpropagation equations for a two-layer ReLU network: the $Z_1$ term just computes the \"forward\" pass while the $G_2$ and $G_1$ terms denote the backward pass.  But the precise form of the updates can vary depending upon the notation you've used for neural networks, the precise ways you formulate the losses, if you've derived these previously in matrix form, etc.  If the notation seems like it might be familiar from when you've seen deep networks in the past, and makes more sense after the 9/8 lecture, that is more than sufficient in terms of background (after all, the whole _point_ of deep learning systems, to some extent, is that we don't need to bother with these manual calculations).  But if these entire concepts are _completely_ foreign to you, then it may be better to take a separate course on ML and neural networks prior to this course, or at least be aware that there will be substantial catch-up work to do for the course.\n",
        "\n",
        "Using these gradients, now write the `nn_epoch()` function in the `src/simple_ml.py` file.  As with the previous question, your solution should modify the `W1` and `W2` arrays in place.  After implementing the function, run the following test.  Be sure to use matrix operations as indicated by the expresssions above to implement the function: this will be _much_ faster, and more efficient, than attempting to use loops (and it requires far less code)."
      ]
    },
    {
      "cell_type": "code",
      "execution_count": null,
      "metadata": {
        "id": "6ykvCloSgWOz",
        "colab": {
          "base_uri": "https://localhost:8080/"
        },
        "outputId": "6643bef1-1f2c-4b8c-ddd1-1f1a5ab3a2c4"
      },
      "outputs": [
        {
          "output_type": "stream",
          "name": "stdout",
          "text": [
            "\u001b[1m============================= test session starts ==============================\u001b[0m\n",
            "platform linux -- Python 3.8.16, pytest-3.6.4, py-1.11.0, pluggy-0.7.1\n",
            "rootdir: /content/drive/MyDrive/10714/hw0, inifile:\n",
            "plugins: typeguard-2.7.1\n",
            "collected 6 items / 5 deselected                                               \u001b[0m\n",
            "\n",
            "tests/test_simple_ml.py .\n",
            "\n",
            "\u001b[32m\u001b[1m==================== 1 passed, 5 deselected in 1.98 seconds ====================\u001b[0m\n"
          ]
        }
      ],
      "source": [
        "!python3 -m pytest -k \"nn_epoch\" -s"
      ]
    },
    {
      "cell_type": "markdown",
      "metadata": {
        "id": "oSjlY-bPgWOz"
      },
      "source": [
        "And finally submit for autograding."
      ]
    },
    {
      "cell_type": "code",
      "execution_count": null,
      "metadata": {
        "id": "V-o6RVecgWOz",
        "colab": {
          "base_uri": "https://localhost:8080/"
        },
        "outputId": "c2fac6ed-2bf8-4b0c-c0fb-4a4094f315f2"
      },
      "outputs": [
        {
          "output_type": "stream",
          "name": "stdout",
          "text": [
            "submit\n",
            "\u001b[1m============================= test session starts ==============================\u001b[0m\n",
            "platform linux -- Python 3.8.16, pytest-3.6.4, py-1.11.0, pluggy-0.7.1\n",
            "rootdir: /content/drive/MyDrive/10714/hw0, inifile:\n",
            "plugins: typeguard-2.7.1\n",
            "collected 6 items / 5 deselected                                               \u001b[0m\n",
            "\n",
            "tests/test_simple_ml.py F\n",
            "\n",
            "=================================== FAILURES ===================================\n",
            "\u001b[31m\u001b[1m_______________________________ submit_nn_epoch ________________________________\u001b[0m\n",
            "\n",
            "pyfuncitem = <Function 'submit_nn_epoch'>\n",
            "\n",
            "\u001b[1m    @pytest.hookimpl(hookwrapper=True)\u001b[0m\n",
            "\u001b[1m    def pytest_pyfunc_call(pyfuncitem):\u001b[0m\n",
            "\u001b[1m        ## prior to test, initialize submission\u001b[0m\n",
            "\u001b[1m        global _values, _submission_key, _errors\u001b[0m\n",
            "\u001b[1m        _values = []\u001b[0m\n",
            "\u001b[1m        _errors = 0\u001b[0m\n",
            "\u001b[1m        func_name = pyfuncitem.name[7:]\u001b[0m\n",
            "\u001b[1m        if os.environ[\"MUGRADE_OP\"] == \"submit\":\u001b[0m\n",
            "\u001b[1m>           _submission_key = start_submission(func_name)\u001b[0m\n",
            "\n",
            "\u001b[1m\u001b[31m/usr/local/lib/python3.8/dist-packages/mugrade/mugrade.py\u001b[0m:164: \n",
            "_ _ _ _ _ _ _ _ _ _ _ _ _ _ _ _ _ _ _ _ _ _ _ _ _ _ _ _ _ _ _ _ _ _ _ _ _ _ _ _ \n",
            "\n",
            "func_name = 'nn_epoch'\n",
            "\n",
            "\u001b[1m    def start_submission(func_name):\u001b[0m\n",
            "\u001b[1m        \"\"\" Begin a submisssion to the mugrade server \"\"\"\u001b[0m\n",
            "\u001b[1m    \u001b[0m\n",
            "\u001b[1m        server_url, protocol = get_server_url_protocol(os.environ[\"MUGRADE_KEY\"])\u001b[0m\n",
            "\u001b[1m        response = requests.post(server_url + \"submission\",\u001b[0m\n",
            "\u001b[1m                                 params = {\"user_key\": os.environ[\"MUGRADE_KEY\"],\u001b[0m\n",
            "\u001b[1m                                           \"func_name\": func_name},\u001b[0m\n",
            "\u001b[1m                                 verify=False)\u001b[0m\n",
            "\u001b[1m    \u001b[0m\n",
            "\u001b[1m    \u001b[0m\n",
            "\u001b[1m        if response.status_code != 200:\u001b[0m\n",
            "\u001b[1m            raise Exception(f\"Error : {response.text}\")\u001b[0m\n",
            "\u001b[1m>       return response.json()[\"submission_key\"]\u001b[0m\n",
            "\u001b[1m\u001b[31mE       KeyError: 'submission_key'\u001b[0m\n",
            "\n",
            "\u001b[1m\u001b[31m/usr/local/lib/python3.8/dist-packages/mugrade/mugrade.py\u001b[0m:103: KeyError\n",
            "\u001b[31m\u001b[1m==================== 1 failed, 5 deselected in 0.57 seconds ====================\u001b[0m\n"
          ]
        }
      ],
      "source": [
        "!python3 -m mugrade submit YOUR_GRADER_KEY_HERE -k \"nn_epoch\""
      ]
    },
    {
      "cell_type": "markdown",
      "metadata": {
        "id": "cLhksNUngWOz"
      },
      "source": [
        "### Training a full neural network\n",
        "\n",
        "As before, though it isn't a strict necessity to pass the autograder, it's rather fun to see how well you can use your neural network function to train an MNIST classifier.  Analogous to the softmax regression case, there is a `train_nn()` function in the `simple_ml.py` file you can use to train this two-layer network via SGD with multiple epochs.  Here is code, for example, that trains a two-layer network with 400 hidden units."
      ]
    },
    {
      "cell_type": "code",
      "execution_count": null,
      "metadata": {
        "id": "J4pvA0SwgWOz",
        "colab": {
          "base_uri": "https://localhost:8080/"
        },
        "outputId": "ed1e34b4-3bb7-4028-df0e-616fe0d383ac"
      },
      "outputs": [
        {
          "output_type": "stream",
          "name": "stdout",
          "text": [
            "| Epoch | Train Loss | Train Err | Test Loss | Test Err |\n",
            "|     0 |    0.15324 |   0.04697 |   0.16305 |  0.04920 |\n",
            "|     1 |    0.09854 |   0.02923 |   0.11604 |  0.03660 |\n",
            "|     2 |    0.07396 |   0.02143 |   0.09704 |  0.03130 |\n",
            "|     3 |    0.05930 |   0.01707 |   0.08757 |  0.02860 |\n",
            "|     4 |    0.04782 |   0.01315 |   0.08024 |  0.02550 |\n",
            "|     5 |    0.04071 |   0.01083 |   0.07714 |  0.02440 |\n",
            "|     6 |    0.03488 |   0.00905 |   0.07427 |  0.02380 |\n",
            "|     7 |    0.03024 |   0.00755 |   0.07221 |  0.02270 |\n",
            "|     8 |    0.02654 |   0.00630 |   0.07083 |  0.02170 |\n",
            "|     9 |    0.02344 |   0.00530 |   0.06948 |  0.02080 |\n",
            "|    10 |    0.02100 |   0.00463 |   0.06879 |  0.02070 |\n",
            "|    11 |    0.01887 |   0.00385 |   0.06818 |  0.02120 |\n",
            "|    12 |    0.01705 |   0.00315 |   0.06762 |  0.02100 |\n",
            "|    13 |    0.01551 |   0.00275 |   0.06708 |  0.02140 |\n",
            "|    14 |    0.01417 |   0.00243 |   0.06676 |  0.02100 |\n",
            "|    15 |    0.01291 |   0.00208 |   0.06624 |  0.02040 |\n",
            "|    16 |    0.01179 |   0.00180 |   0.06595 |  0.02060 |\n",
            "|    17 |    0.01083 |   0.00155 |   0.06561 |  0.01960 |\n",
            "|    18 |    0.00991 |   0.00122 |   0.06528 |  0.01980 |\n",
            "|    19 |    0.00917 |   0.00102 |   0.06512 |  0.01940 |\n"
          ]
        }
      ],
      "source": [
        "import sys\n",
        "\n",
        "# Reload the simple_ml module which has been cached from the earlier experiment\n",
        "import importlib\n",
        "import simple_ml\n",
        "importlib.reload(simple_ml)\n",
        "\n",
        "sys.path.append(\"src/\")\n",
        "from simple_ml import train_nn, parse_mnist\n",
        "\n",
        "X_tr, y_tr = parse_mnist(\"data/train-images-idx3-ubyte.gz\", \n",
        "                         \"data/train-labels-idx1-ubyte.gz\")\n",
        "X_te, y_te = parse_mnist(\"data/t10k-images-idx3-ubyte.gz\",\n",
        "                         \"data/t10k-labels-idx1-ubyte.gz\")\n",
        "train_nn(X_tr, y_tr, X_te, y_te, hidden_dim=400, epochs=20, lr=0.2)"
      ]
    },
    {
      "cell_type": "markdown",
      "metadata": {
        "id": "XjYxCapUgWOz"
      },
      "source": [
        "This takes about 30 seconds to run on Colab for our implementation, and as seen above, it achieve an error of 1.89\\% on MNIST.  Not bad for less than 20 lines of code or so..."
      ]
    },
    {
      "cell_type": "markdown",
      "metadata": {
        "id": "IAMqlDGtgWOz"
      },
      "source": [
        "## Question 6: Softmax regression in C++\n",
        "\n",
        "The final question in this homework requires you to implement the same function you did in Question 4, a function that runs a single epoch of linear softmax regression.  But here, you will do so with a C++ implementation, rather than a Python one. (Strictly speaking, the actual implementation here is more like raw C, but we use C++ features to build the interface to Python using the [pybind11](https://pybind11.readthedocs.io) library, which you will also use to interface between C++ and Python in later homeworks.  Although there are other alternatives, pybind11 library is relatively nice as an interface, as it is a header-only library, and allows you to implement the entire Python/C++ interface within a single C++ source library.)\n",
        "\n",
        "The C++ file you'll implement things in is the `src/simple_ml_ext.cpp` file.  Let's take a look at the relevant portion of the file.  You will specifically implement your code in the following function\n",
        "\n",
        "```cpp\n",
        "void softmax_regression_epoch_cpp(const float *X, const unsigned char *y, \n",
        "\t\t\t\t\t\t\t\t  float *theta, size_t m, size_t n, size_t k, \n",
        "\t\t\t\t\t\t\t\t  float lr, size_t batch)\n",
        "{\n",
        "    /**\n",
        "     * A C++ version of the softmax regression epoch code.  This should run a \n",
        "     * single epoch over the data defined by X and y (and sizes m,n,k), and\n",
        "     * modify theta in place.  Your function will probably want to allocate\n",
        "     * (and then delete) some helper arrays to store the logits and gradients.\n",
        "     * \n",
        "     * Args:\n",
        "     *     X (const float *): pointer to X data, of size m*n, stored in row \n",
        "     *          major (C) format\n",
        "     *     y (const unsigned char *): pointer to y data, of size m\n",
        "     *     theta (float *): pointer to theta data, of size n*k, stored in row\n",
        "     *          major (C) format\n",
        "     *     m (size_t): number of examples\n",
        "     *     n (size_t): input dimension\n",
        "     *     k (size_t): number of classes\n",
        "     *     lr (float): learning rate / SGD step size\n",
        "     *     batch (int): SGD minibatch size\n",
        "     * \n",
        "     * Returns:\n",
        "     *     (None)\n",
        "     */\n",
        "\n",
        "    /// YOUR CODE HERE\n",
        "    \n",
        "    /// END YOUR CODE\n",
        "}\n",
        "```\n",
        "Let's unpack the arguments to this function a bit.  The function essentially mirrors that of the Python implementation, but requires passing some additional arguments because we are operating on raw pointers to the array data rather than any sort of higher-level \"matrix\" data structure.  Specifically, `X`, `y`, and `theta` are pointers to the raw data of the corresponding numpy arrays from the previous section; for 2D arrays, these are stored in C-style (row-major) format, meaning that the first row of $X$ is stored sequentially as the first bytes in `X`, then the second row, etc (this contrasts with _column major_ ordering, which stores the first _column_ of the matrirx sequentially, then the second column, etc).  We also assuming there is no padding in the data; that is, the second row begins immediately after the first row, with no additional bytes added, e.g., to align the memory to a certain boundary (all these issues will be mentioned in subsequent discussion in the course, but avoided for now). Of course, because only the raw data is passed into the function, in order to know the actual sizes of the underlying matrices, we also need to pass these sizes explicitly to the function, which is what is provided by the `m`, `n`, and `k` arguments.\n",
        "\n",
        "As an illustration of how to access the data, note that because `X` represents a row-major, $m \\times n$ matrix, if we want to access the $(i,j)$ element of $X$ (the element in the $i$th row and the $j$th column), we would use the index\n",
        "```cpp\n",
        "X[i*n + j]\n",
        "```\n",
        "i.e., because `X` is $n$ columns, and stores it's columns sequentially, we'd need to access the `X[i*n]` element to access the $i$th row; and if we want to access the $j$th element in this row, we have the expression above.  The same logic would apply to the `theta` matrix, but importantly, because `theta` is a $n \\times k$ matrix, to access it's $(i,j)$ element you would use the index\n",
        "```cpp\n",
        "theta[i*k + j]\n",
        "```\n",
        "Unlike in Python, you need to be very careful when accessing memory directly like this in C++, and get very used to this kind of notation (or build additional data structures that help you access things in a more intuitive fashion, but for this assignment you should just stick to the raw indexing).\n",
        "\n",
        "\n",
        "The second piece of importance for the implementation is the pybind11 code that actually provides the Python interface\n",
        "```cpp\n",
        "PYBIND11_MODULE(simple_ml_ext, m) {\n",
        "    m.def(\"softmax_regression_epoch_cpp\", \n",
        "    \t[](py::array_t<float, py::array::c_style> X, \n",
        "           py::array_t<unsigned char, py::array::c_style> y, \n",
        "           py::array_t<float, py::array::c_style> theta,\n",
        "           float lr,\n",
        "           int batch) {\n",
        "        softmax_regression_epoch_cpp(\n",
        "        \tstatic_cast<const float*>(X.request().ptr),\n",
        "            static_cast<const unsigned char*>(y.request().ptr),\n",
        "            static_cast<float*>(theta.request().ptr),\n",
        "            X.request().shape[0],\n",
        "            X.request().shape[1],\n",
        "            theta.request().shape[1],\n",
        "            lr,\n",
        "            batch\n",
        "           );\n",
        "    },\n",
        "    py::arg(\"X\"), py::arg(\"y\"), py::arg(\"theta\"), \n",
        "    py::arg(\"lr\"), py::arg(\"batch\"));\n",
        "}\n",
        "```\n",
        "This code is provided for you in the file, and you should not change it at all.  But for those who are curious, this code essentially just extracts the raw pointers from the provided inputs (using pybinds numpy interface), and then calls the corresponding `softmax_regression_epoch_cpp` function.\n",
        "\n",
        "Using all this as background, implement the `softmax_regression_epoch_cpp` to accomplish the same updates as your Python implementation did.  Note that because you are just accessing the raw data, you will need to perform all the matrix-vector products manually, rather that rely on numpy to do all the matrix operations for you (**note: do not use an external matrix library like Eigen for this assignment, but code the multiplication yourself ... it is a relatively simple one**). After you do so, you can test the implementation using the following commands."
      ]
    },
    {
      "cell_type": "code",
      "execution_count": null,
      "metadata": {
        "id": "_OzsrwhngWO0",
        "colab": {
          "base_uri": "https://localhost:8080/"
        },
        "outputId": "87334033-2b0a-4b7a-e8b0-5a78b8feff2a"
      },
      "outputs": [
        {
          "output_type": "stream",
          "name": "stdout",
          "text": [
            "c++ -O3 -Wall -shared -std=c++11 -fPIC $(python3 -m pybind11 --includes) src/simple_ml_ext.cpp -o src/simple_ml_ext.so\n",
            "\u001b[1m============================= test session starts ==============================\u001b[0m\n",
            "platform linux -- Python 3.8.16, pytest-3.6.4, py-1.11.0, pluggy-0.7.1\n",
            "rootdir: /content/drive/MyDrive/10714/hw0, inifile:\n",
            "plugins: typeguard-2.7.1\n",
            "collected 6 items / 5 deselected                                               \u001b[0m\n",
            "\n",
            "tests/test_simple_ml.py .\u001b[36m                                                [100%]\u001b[0m\n",
            "\n",
            "\u001b[32m\u001b[1m==================== 1 passed, 5 deselected in 0.85 seconds ====================\u001b[0m\n"
          ]
        }
      ],
      "source": [
        "!make\n",
        "!python3 -m pytest -k \"softmax_regression_epoch_cpp\""
      ]
    },
    {
      "cell_type": "code",
      "source": [
        "!python3 -m pytest -k \"softmax_regression_epoch_cpp\""
      ],
      "metadata": {
        "colab": {
          "base_uri": "https://localhost:8080/"
        },
        "id": "FX5S0ttUTlXa",
        "outputId": "afe561c0-d23b-4063-f62f-c84945673842"
      },
      "execution_count": null,
      "outputs": [
        {
          "output_type": "stream",
          "name": "stdout",
          "text": [
            "\u001b[1m============================= test session starts ==============================\u001b[0m\n",
            "platform linux -- Python 3.8.16, pytest-3.6.4, py-1.11.0, pluggy-0.7.1\n",
            "rootdir: /content/drive/MyDrive/10714/hw0, inifile:\n",
            "plugins: typeguard-2.7.1\n",
            "collected 6 items / 5 deselected                                               \u001b[0m\n",
            "\n",
            "tests/test_simple_ml.py .\u001b[36m                                                [100%]\u001b[0m\n",
            "\n",
            "\u001b[32m\u001b[1m==================== 1 passed, 5 deselected in 0.81 seconds ====================\u001b[0m\n"
          ]
        }
      ]
    },
    {
      "cell_type": "markdown",
      "metadata": {
        "id": "MR17QcxSgWO0"
      },
      "source": [
        "Note that unlike our code before, we had to actually compile the C++ extension in order to run an test it.  This will be needed whenever there are C++ components of your code, but in all such cases we will include Makefiles that should compile all the relevant functions and include the necessary libraries/headers.  And finally, let's also submit the results to mugrade."
      ]
    },
    {
      "cell_type": "code",
      "execution_count": null,
      "metadata": {
        "id": "aDmzd3zpgWO0"
      },
      "outputs": [],
      "source": [
        "!python3 -m mugrade submit YOUR_GRADER_KEY_HERE -k \"softmax_regression_epoch_cpp\""
      ]
    },
    {
      "cell_type": "markdown",
      "metadata": {
        "id": "-c0dBjlMgWO0"
      },
      "source": [
        "### Training a full softmax regression classifier with the C++ version\n",
        "\n",
        "Let's finally try training the whole softmax regression classifier using our \"direct memory acesss\" C++ version.  If the previous Python version took ~3 seconds, this should be blazing fast, right?"
      ]
    },
    {
      "cell_type": "code",
      "execution_count": null,
      "metadata": {
        "id": "KhKxs4IwgWO1",
        "colab": {
          "base_uri": "https://localhost:8080/"
        },
        "outputId": "235473f9-e527-449e-d078-7f5863cfb30b"
      },
      "outputs": [
        {
          "output_type": "stream",
          "name": "stdout",
          "text": [
            "| Epoch | Train Loss | Train Err | Test Loss | Test Err |\n",
            "|     0 |    0.35134 |   0.10182 |   0.33588 |  0.09400 |\n",
            "|     1 |    0.32142 |   0.09268 |   0.31086 |  0.08730 |\n",
            "|     2 |    0.30802 |   0.08795 |   0.30097 |  0.08550 |\n",
            "|     3 |    0.29987 |   0.08532 |   0.29558 |  0.08370 |\n",
            "|     4 |    0.29415 |   0.08323 |   0.29215 |  0.08230 |\n",
            "|     5 |    0.28981 |   0.08182 |   0.28973 |  0.08090 |\n",
            "|     6 |    0.28633 |   0.08085 |   0.28793 |  0.08080 |\n",
            "|     7 |    0.28345 |   0.07997 |   0.28651 |  0.08040 |\n",
            "|     8 |    0.28100 |   0.07923 |   0.28537 |  0.08010 |\n",
            "|     9 |    0.27887 |   0.07847 |   0.28442 |  0.07970 |\n"
          ]
        }
      ],
      "source": [
        "import sys\n",
        "sys.path.append(\"src/\")\n",
        "\n",
        "# Reload the simple_ml module to include the newly-compiled C++ extension\n",
        "import importlib\n",
        "import simple_ml\n",
        "importlib.reload(simple_ml)\n",
        "\n",
        "from simple_ml import train_softmax, parse_mnist\n",
        "\n",
        "X_tr, y_tr = parse_mnist(\"data/train-images-idx3-ubyte.gz\", \n",
        "                         \"data/train-labels-idx1-ubyte.gz\")\n",
        "X_te, y_te = parse_mnist(\"data/t10k-images-idx3-ubyte.gz\",\n",
        "                         \"data/t10k-labels-idx1-ubyte.gz\")\n",
        "\n",
        "train_softmax(X_tr, y_tr, X_te, y_te, epochs=10, lr = 0.2, batch=100, cpp=True)"
      ]
    },
    {
      "cell_type": "markdown",
      "metadata": {
        "id": "mnNzkuxdgWO1"
      },
      "source": [
        "As expected, the numbers match exactly our Python version, and the code is ... about 5 times slower?!  What is going on here?  Well, it turns out that the \"manual\" matrix multiplication code you probably wrote for the C++ version is extremely inefficient.  While Python itself is a slow, interpreted language, numpy itself is backed by matrix multiplications written in C (or, more likely, Fortran, believe it or not), that have been highly optmized to make use of vector operations, the cache hierarchy of different processors, and other features that are essential for efficient numerical operations.  We will cover these details much more in later lectures, and you'll even write a matrix library that can actually perform these operations relatively efficiently (at least for some special cases ... it's honestly not that easy to beat numpy in general).\n",
        "\n",
        "But for now, assuming your code recreates the Python behavior, you're done with the assignment, and can get ready for our next dive into automatic differentiation."
      ]
    }
  ],
  "metadata": {
    "kernelspec": {
      "display_name": "Python 3",
      "language": "python",
      "name": "python3"
    },
    "language_info": {
      "codemirror_mode": {
        "name": "ipython",
        "version": 3
      },
      "file_extension": ".py",
      "mimetype": "text/x-python",
      "name": "python",
      "nbconvert_exporter": "python",
      "pygments_lexer": "ipython3",
      "version": "3.7.4"
    },
    "vscode": {
      "interpreter": {
        "hash": "916dbcbb3f70747c44a77c7bcd40155683ae19c65e1c03b4aa3499c5328201f1"
      }
    },
    "colab": {
      "provenance": []
    }
  },
  "nbformat": 4,
  "nbformat_minor": 0
}